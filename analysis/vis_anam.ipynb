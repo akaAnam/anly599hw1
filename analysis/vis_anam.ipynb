{
 "cells": [
  {
   "attachments": {},
   "cell_type": "markdown",
   "metadata": {},
   "source": [
    "### Visualizations"
   ]
  },
  {
   "cell_type": "code",
   "execution_count": 2,
   "metadata": {},
   "outputs": [
    {
     "data": {
      "text/html": [
       "<div>\n",
       "<style scoped>\n",
       "    .dataframe tbody tr th:only-of-type {\n",
       "        vertical-align: middle;\n",
       "    }\n",
       "\n",
       "    .dataframe tbody tr th {\n",
       "        vertical-align: top;\n",
       "    }\n",
       "\n",
       "    .dataframe thead th {\n",
       "        text-align: right;\n",
       "    }\n",
       "</style>\n",
       "<table border=\"1\" class=\"dataframe\">\n",
       "  <thead>\n",
       "    <tr style=\"text-align: right;\">\n",
       "      <th></th>\n",
       "      <th>Unnamed: 0</th>\n",
       "      <th>State</th>\n",
       "      <th>Decision</th>\n",
       "      <th>avg_workexp</th>\n",
       "      <th>avg_volunteer</th>\n",
       "      <th>avg_test</th>\n",
       "      <th>avg_writing</th>\n",
       "      <th>avg_gpa</th>\n",
       "      <th>total_apps</th>\n",
       "      <th>code</th>\n",
       "    </tr>\n",
       "  </thead>\n",
       "  <tbody>\n",
       "    <tr>\n",
       "      <th>0</th>\n",
       "      <td>1</td>\n",
       "      <td>California</td>\n",
       "      <td>Admit</td>\n",
       "      <td>3.11</td>\n",
       "      <td>2.56</td>\n",
       "      <td>946.44</td>\n",
       "      <td>94.44</td>\n",
       "      <td>3.76</td>\n",
       "      <td>12</td>\n",
       "      <td>CA</td>\n",
       "    </tr>\n",
       "    <tr>\n",
       "      <th>1</th>\n",
       "      <td>2</td>\n",
       "      <td>Colorado</td>\n",
       "      <td>Admit</td>\n",
       "      <td>1.57</td>\n",
       "      <td>2</td>\n",
       "      <td>967.38</td>\n",
       "      <td>82.38</td>\n",
       "      <td>3.72</td>\n",
       "      <td>18</td>\n",
       "      <td>CO</td>\n",
       "    </tr>\n",
       "    <tr>\n",
       "      <th>2</th>\n",
       "      <td>3</td>\n",
       "      <td>Florida</td>\n",
       "      <td>Admit</td>\n",
       "      <td>1.59</td>\n",
       "      <td>2.18</td>\n",
       "      <td>966.18</td>\n",
       "      <td>87.18</td>\n",
       "      <td>3.73</td>\n",
       "      <td>35</td>\n",
       "      <td>FL</td>\n",
       "    </tr>\n",
       "    <tr>\n",
       "      <th>3</th>\n",
       "      <td>4</td>\n",
       "      <td>Utah</td>\n",
       "      <td>Admit</td>\n",
       "      <td>1.2</td>\n",
       "      <td>2</td>\n",
       "      <td>968</td>\n",
       "      <td>87</td>\n",
       "      <td>3.78</td>\n",
       "      <td>6</td>\n",
       "      <td>UT</td>\n",
       "    </tr>\n",
       "    <tr>\n",
       "      <th>4</th>\n",
       "      <td>5</td>\n",
       "      <td>Alabama</td>\n",
       "      <td>Waitlist</td>\n",
       "      <td>No Admitted Students</td>\n",
       "      <td>No Admitted Students</td>\n",
       "      <td>No Admitted Students</td>\n",
       "      <td>No Admitted Students</td>\n",
       "      <td>No Admitted Students</td>\n",
       "      <td>1</td>\n",
       "      <td>AL</td>\n",
       "    </tr>\n",
       "    <tr>\n",
       "      <th>5</th>\n",
       "      <td>6</td>\n",
       "      <td>Mississippi</td>\n",
       "      <td>Decline</td>\n",
       "      <td>No Admitted Students</td>\n",
       "      <td>No Admitted Students</td>\n",
       "      <td>No Admitted Students</td>\n",
       "      <td>No Admitted Students</td>\n",
       "      <td>No Admitted Students</td>\n",
       "      <td>1</td>\n",
       "      <td>MS</td>\n",
       "    </tr>\n",
       "    <tr>\n",
       "      <th>6</th>\n",
       "      <td>7</td>\n",
       "      <td>New York</td>\n",
       "      <td>Waitlist</td>\n",
       "      <td>No Admitted Students</td>\n",
       "      <td>No Admitted Students</td>\n",
       "      <td>No Admitted Students</td>\n",
       "      <td>No Admitted Students</td>\n",
       "      <td>No Admitted Students</td>\n",
       "      <td>1</td>\n",
       "      <td>NY</td>\n",
       "    </tr>\n",
       "    <tr>\n",
       "      <th>7</th>\n",
       "      <td>8</td>\n",
       "      <td>Oregon</td>\n",
       "      <td>Decline</td>\n",
       "      <td>No Admitted Students</td>\n",
       "      <td>No Admitted Students</td>\n",
       "      <td>No Admitted Students</td>\n",
       "      <td>No Admitted Students</td>\n",
       "      <td>No Admitted Students</td>\n",
       "      <td>1</td>\n",
       "      <td>OR</td>\n",
       "    </tr>\n",
       "    <tr>\n",
       "      <th>8</th>\n",
       "      <td>9</td>\n",
       "      <td>Vermont</td>\n",
       "      <td>Waitlist</td>\n",
       "      <td>No Admitted Students</td>\n",
       "      <td>No Admitted Students</td>\n",
       "      <td>No Admitted Students</td>\n",
       "      <td>No Admitted Students</td>\n",
       "      <td>No Admitted Students</td>\n",
       "      <td>1</td>\n",
       "      <td>VT</td>\n",
       "    </tr>\n",
       "    <tr>\n",
       "      <th>9</th>\n",
       "      <td>10</td>\n",
       "      <td>Virginia</td>\n",
       "      <td>Decline</td>\n",
       "      <td>No Admitted Students</td>\n",
       "      <td>No Admitted Students</td>\n",
       "      <td>No Admitted Students</td>\n",
       "      <td>No Admitted Students</td>\n",
       "      <td>No Admitted Students</td>\n",
       "      <td>4</td>\n",
       "      <td>VA</td>\n",
       "    </tr>\n",
       "  </tbody>\n",
       "</table>\n",
       "</div>"
      ],
      "text/plain": [
       "   Unnamed: 0        State  Decision           avg_workexp  \\\n",
       "0           1   California     Admit                  3.11   \n",
       "1           2     Colorado     Admit                  1.57   \n",
       "2           3      Florida     Admit                  1.59   \n",
       "3           4         Utah     Admit                   1.2   \n",
       "4           5      Alabama  Waitlist  No Admitted Students   \n",
       "5           6  Mississippi   Decline  No Admitted Students   \n",
       "6           7     New York  Waitlist  No Admitted Students   \n",
       "7           8       Oregon   Decline  No Admitted Students   \n",
       "8           9      Vermont  Waitlist  No Admitted Students   \n",
       "9          10     Virginia   Decline  No Admitted Students   \n",
       "\n",
       "          avg_volunteer              avg_test           avg_writing  \\\n",
       "0                  2.56                946.44                 94.44   \n",
       "1                     2                967.38                 82.38   \n",
       "2                  2.18                966.18                 87.18   \n",
       "3                     2                   968                    87   \n",
       "4  No Admitted Students  No Admitted Students  No Admitted Students   \n",
       "5  No Admitted Students  No Admitted Students  No Admitted Students   \n",
       "6  No Admitted Students  No Admitted Students  No Admitted Students   \n",
       "7  No Admitted Students  No Admitted Students  No Admitted Students   \n",
       "8  No Admitted Students  No Admitted Students  No Admitted Students   \n",
       "9  No Admitted Students  No Admitted Students  No Admitted Students   \n",
       "\n",
       "                avg_gpa  total_apps code  \n",
       "0                  3.76          12   CA  \n",
       "1                  3.72          18   CO  \n",
       "2                  3.73          35   FL  \n",
       "3                  3.78           6   UT  \n",
       "4  No Admitted Students           1   AL  \n",
       "5  No Admitted Students           1   MS  \n",
       "6  No Admitted Students           1   NY  \n",
       "7  No Admitted Students           1   OR  \n",
       "8  No Admitted Students           1   VT  \n",
       "9  No Admitted Students           4   VA  "
      ]
     },
     "execution_count": 2,
     "metadata": {},
     "output_type": "execute_result"
    }
   ],
   "source": [
    "import pandas as pd \n",
    "\n",
    "df = pd.read_csv('../data/data_for_plotly_map.csv')\n",
    "df\n",
    "df['code'] = ['CA', 'CO', 'FL', 'UT', 'AL', 'MS', 'NY', 'OR', 'VT', 'VA']\n",
    "df"
   ]
  },
  {
   "attachments": {},
   "cell_type": "markdown",
   "metadata": {},
   "source": [
    "### Cloropleth Map - Applicant Breakdown"
   ]
  },
  {
   "cell_type": "code",
   "execution_count": 47,
   "metadata": {},
   "outputs": [
    {
     "data": {
      "application/vnd.plotly.v1+json": {
       "config": {
        "plotlyServerURL": "https://plot.ly"
       },
       "data": [
        {
         "autocolorscale": false,
         "colorbar": {
          "title": {
           "font": {
            "color": "#fb6502",
            "size": 14
           },
           "text": "Total Applicants"
          }
         },
         "colorscale": [
          [
           0,
           "rgb(255,245,240)"
          ],
          [
           0.125,
           "rgb(254,224,210)"
          ],
          [
           0.25,
           "rgb(252,187,161)"
          ],
          [
           0.375,
           "rgb(252,146,114)"
          ],
          [
           0.5,
           "rgb(251,106,74)"
          ],
          [
           0.625,
           "rgb(239,59,44)"
          ],
          [
           0.75,
           "rgb(203,24,29)"
          ],
          [
           0.875,
           "rgb(165,15,21)"
          ],
          [
           1,
           "rgb(103,0,13)"
          ]
         ],
         "locationmode": "USA-states",
         "locations": [
          "CA",
          "CO",
          "FL",
          "UT",
          "AL",
          "MS",
          "NY",
          "OR",
          "VT",
          "VA"
         ],
         "marker": {
          "line": {
           "color": "white"
          }
         },
         "text": [
          "California Total Applicants: 12<br><br>ADMITTED STUDENT AVERAGES: <br>GPA: 3.76<br>Work Exp: 3.11<br>Volunteer: 2.56<br>Test Score: 946.44<br>Writing Score: 94.44",
          "Colorado Total Applicants: 18<br><br>ADMITTED STUDENT AVERAGES: <br>GPA: 3.72<br>Work Exp: 1.57<br>Volunteer: 2<br>Test Score: 967.38<br>Writing Score: 82.38",
          "Florida Total Applicants: 35<br><br>ADMITTED STUDENT AVERAGES: <br>GPA: 3.73<br>Work Exp: 1.59<br>Volunteer: 2.18<br>Test Score: 966.18<br>Writing Score: 87.18",
          "Utah Total Applicants: 6<br><br>ADMITTED STUDENT AVERAGES: <br>GPA: 3.78<br>Work Exp: 1.2<br>Volunteer: 2<br>Test Score: 968<br>Writing Score: 87",
          "Alabama Total Applicants: 1<br><br>ADMITTED STUDENT AVERAGES: <br>GPA: No Admitted Students<br>Work Exp: No Admitted Students<br>Volunteer: No Admitted Students<br>Test Score: No Admitted Students<br>Writing Score: No Admitted Students",
          "Mississippi Total Applicants: 1<br><br>ADMITTED STUDENT AVERAGES: <br>GPA: No Admitted Students<br>Work Exp: No Admitted Students<br>Volunteer: No Admitted Students<br>Test Score: No Admitted Students<br>Writing Score: No Admitted Students",
          "New York Total Applicants: 1<br><br>ADMITTED STUDENT AVERAGES: <br>GPA: No Admitted Students<br>Work Exp: No Admitted Students<br>Volunteer: No Admitted Students<br>Test Score: No Admitted Students<br>Writing Score: No Admitted Students",
          "Oregon Total Applicants: 1<br><br>ADMITTED STUDENT AVERAGES: <br>GPA: No Admitted Students<br>Work Exp: No Admitted Students<br>Volunteer: No Admitted Students<br>Test Score: No Admitted Students<br>Writing Score: No Admitted Students",
          "Vermont Total Applicants: 1<br><br>ADMITTED STUDENT AVERAGES: <br>GPA: No Admitted Students<br>Work Exp: No Admitted Students<br>Volunteer: No Admitted Students<br>Test Score: No Admitted Students<br>Writing Score: No Admitted Students",
          "Virginia Total Applicants: 4<br><br>ADMITTED STUDENT AVERAGES: <br>GPA: No Admitted Students<br>Work Exp: No Admitted Students<br>Volunteer: No Admitted Students<br>Test Score: No Admitted Students<br>Writing Score: No Admitted Students"
         ],
         "type": "choropleth",
         "z": [
          12,
          18,
          35,
          6,
          1,
          1,
          1,
          1,
          1,
          4
         ]
        }
       ],
       "layout": {
        "font": {
         "size": 16
        },
        "geo": {
         "bgcolor": "#fcfcfc",
         "lakecolor": "rgb(255, 255, 255)",
         "landcolor": "#EEEEEE",
         "projection": {
          "type": "albers usa"
         },
         "scope": "usa",
         "showlakes": true
        },
        "hoverlabel": {
         "bgcolor": "#4d64c0",
         "font": {
          "color": "white"
         }
        },
        "paper_bgcolor": "#fcfcfc",
        "template": {
         "data": {
          "bar": [
           {
            "error_x": {
             "color": "#2a3f5f"
            },
            "error_y": {
             "color": "#2a3f5f"
            },
            "marker": {
             "line": {
              "color": "#E5ECF6",
              "width": 0.5
             },
             "pattern": {
              "fillmode": "overlay",
              "size": 10,
              "solidity": 0.2
             }
            },
            "type": "bar"
           }
          ],
          "barpolar": [
           {
            "marker": {
             "line": {
              "color": "#E5ECF6",
              "width": 0.5
             },
             "pattern": {
              "fillmode": "overlay",
              "size": 10,
              "solidity": 0.2
             }
            },
            "type": "barpolar"
           }
          ],
          "carpet": [
           {
            "aaxis": {
             "endlinecolor": "#2a3f5f",
             "gridcolor": "white",
             "linecolor": "white",
             "minorgridcolor": "white",
             "startlinecolor": "#2a3f5f"
            },
            "baxis": {
             "endlinecolor": "#2a3f5f",
             "gridcolor": "white",
             "linecolor": "white",
             "minorgridcolor": "white",
             "startlinecolor": "#2a3f5f"
            },
            "type": "carpet"
           }
          ],
          "choropleth": [
           {
            "colorbar": {
             "outlinewidth": 0,
             "ticks": ""
            },
            "type": "choropleth"
           }
          ],
          "contour": [
           {
            "colorbar": {
             "outlinewidth": 0,
             "ticks": ""
            },
            "colorscale": [
             [
              0,
              "#0d0887"
             ],
             [
              0.1111111111111111,
              "#46039f"
             ],
             [
              0.2222222222222222,
              "#7201a8"
             ],
             [
              0.3333333333333333,
              "#9c179e"
             ],
             [
              0.4444444444444444,
              "#bd3786"
             ],
             [
              0.5555555555555556,
              "#d8576b"
             ],
             [
              0.6666666666666666,
              "#ed7953"
             ],
             [
              0.7777777777777778,
              "#fb9f3a"
             ],
             [
              0.8888888888888888,
              "#fdca26"
             ],
             [
              1,
              "#f0f921"
             ]
            ],
            "type": "contour"
           }
          ],
          "contourcarpet": [
           {
            "colorbar": {
             "outlinewidth": 0,
             "ticks": ""
            },
            "type": "contourcarpet"
           }
          ],
          "heatmap": [
           {
            "colorbar": {
             "outlinewidth": 0,
             "ticks": ""
            },
            "colorscale": [
             [
              0,
              "#0d0887"
             ],
             [
              0.1111111111111111,
              "#46039f"
             ],
             [
              0.2222222222222222,
              "#7201a8"
             ],
             [
              0.3333333333333333,
              "#9c179e"
             ],
             [
              0.4444444444444444,
              "#bd3786"
             ],
             [
              0.5555555555555556,
              "#d8576b"
             ],
             [
              0.6666666666666666,
              "#ed7953"
             ],
             [
              0.7777777777777778,
              "#fb9f3a"
             ],
             [
              0.8888888888888888,
              "#fdca26"
             ],
             [
              1,
              "#f0f921"
             ]
            ],
            "type": "heatmap"
           }
          ],
          "heatmapgl": [
           {
            "colorbar": {
             "outlinewidth": 0,
             "ticks": ""
            },
            "colorscale": [
             [
              0,
              "#0d0887"
             ],
             [
              0.1111111111111111,
              "#46039f"
             ],
             [
              0.2222222222222222,
              "#7201a8"
             ],
             [
              0.3333333333333333,
              "#9c179e"
             ],
             [
              0.4444444444444444,
              "#bd3786"
             ],
             [
              0.5555555555555556,
              "#d8576b"
             ],
             [
              0.6666666666666666,
              "#ed7953"
             ],
             [
              0.7777777777777778,
              "#fb9f3a"
             ],
             [
              0.8888888888888888,
              "#fdca26"
             ],
             [
              1,
              "#f0f921"
             ]
            ],
            "type": "heatmapgl"
           }
          ],
          "histogram": [
           {
            "marker": {
             "pattern": {
              "fillmode": "overlay",
              "size": 10,
              "solidity": 0.2
             }
            },
            "type": "histogram"
           }
          ],
          "histogram2d": [
           {
            "colorbar": {
             "outlinewidth": 0,
             "ticks": ""
            },
            "colorscale": [
             [
              0,
              "#0d0887"
             ],
             [
              0.1111111111111111,
              "#46039f"
             ],
             [
              0.2222222222222222,
              "#7201a8"
             ],
             [
              0.3333333333333333,
              "#9c179e"
             ],
             [
              0.4444444444444444,
              "#bd3786"
             ],
             [
              0.5555555555555556,
              "#d8576b"
             ],
             [
              0.6666666666666666,
              "#ed7953"
             ],
             [
              0.7777777777777778,
              "#fb9f3a"
             ],
             [
              0.8888888888888888,
              "#fdca26"
             ],
             [
              1,
              "#f0f921"
             ]
            ],
            "type": "histogram2d"
           }
          ],
          "histogram2dcontour": [
           {
            "colorbar": {
             "outlinewidth": 0,
             "ticks": ""
            },
            "colorscale": [
             [
              0,
              "#0d0887"
             ],
             [
              0.1111111111111111,
              "#46039f"
             ],
             [
              0.2222222222222222,
              "#7201a8"
             ],
             [
              0.3333333333333333,
              "#9c179e"
             ],
             [
              0.4444444444444444,
              "#bd3786"
             ],
             [
              0.5555555555555556,
              "#d8576b"
             ],
             [
              0.6666666666666666,
              "#ed7953"
             ],
             [
              0.7777777777777778,
              "#fb9f3a"
             ],
             [
              0.8888888888888888,
              "#fdca26"
             ],
             [
              1,
              "#f0f921"
             ]
            ],
            "type": "histogram2dcontour"
           }
          ],
          "mesh3d": [
           {
            "colorbar": {
             "outlinewidth": 0,
             "ticks": ""
            },
            "type": "mesh3d"
           }
          ],
          "parcoords": [
           {
            "line": {
             "colorbar": {
              "outlinewidth": 0,
              "ticks": ""
             }
            },
            "type": "parcoords"
           }
          ],
          "pie": [
           {
            "automargin": true,
            "type": "pie"
           }
          ],
          "scatter": [
           {
            "fillpattern": {
             "fillmode": "overlay",
             "size": 10,
             "solidity": 0.2
            },
            "type": "scatter"
           }
          ],
          "scatter3d": [
           {
            "line": {
             "colorbar": {
              "outlinewidth": 0,
              "ticks": ""
             }
            },
            "marker": {
             "colorbar": {
              "outlinewidth": 0,
              "ticks": ""
             }
            },
            "type": "scatter3d"
           }
          ],
          "scattercarpet": [
           {
            "marker": {
             "colorbar": {
              "outlinewidth": 0,
              "ticks": ""
             }
            },
            "type": "scattercarpet"
           }
          ],
          "scattergeo": [
           {
            "marker": {
             "colorbar": {
              "outlinewidth": 0,
              "ticks": ""
             }
            },
            "type": "scattergeo"
           }
          ],
          "scattergl": [
           {
            "marker": {
             "colorbar": {
              "outlinewidth": 0,
              "ticks": ""
             }
            },
            "type": "scattergl"
           }
          ],
          "scattermapbox": [
           {
            "marker": {
             "colorbar": {
              "outlinewidth": 0,
              "ticks": ""
             }
            },
            "type": "scattermapbox"
           }
          ],
          "scatterpolar": [
           {
            "marker": {
             "colorbar": {
              "outlinewidth": 0,
              "ticks": ""
             }
            },
            "type": "scatterpolar"
           }
          ],
          "scatterpolargl": [
           {
            "marker": {
             "colorbar": {
              "outlinewidth": 0,
              "ticks": ""
             }
            },
            "type": "scatterpolargl"
           }
          ],
          "scatterternary": [
           {
            "marker": {
             "colorbar": {
              "outlinewidth": 0,
              "ticks": ""
             }
            },
            "type": "scatterternary"
           }
          ],
          "surface": [
           {
            "colorbar": {
             "outlinewidth": 0,
             "ticks": ""
            },
            "colorscale": [
             [
              0,
              "#0d0887"
             ],
             [
              0.1111111111111111,
              "#46039f"
             ],
             [
              0.2222222222222222,
              "#7201a8"
             ],
             [
              0.3333333333333333,
              "#9c179e"
             ],
             [
              0.4444444444444444,
              "#bd3786"
             ],
             [
              0.5555555555555556,
              "#d8576b"
             ],
             [
              0.6666666666666666,
              "#ed7953"
             ],
             [
              0.7777777777777778,
              "#fb9f3a"
             ],
             [
              0.8888888888888888,
              "#fdca26"
             ],
             [
              1,
              "#f0f921"
             ]
            ],
            "type": "surface"
           }
          ],
          "table": [
           {
            "cells": {
             "fill": {
              "color": "#EBF0F8"
             },
             "line": {
              "color": "white"
             }
            },
            "header": {
             "fill": {
              "color": "#C8D4E3"
             },
             "line": {
              "color": "white"
             }
            },
            "type": "table"
           }
          ]
         },
         "layout": {
          "annotationdefaults": {
           "arrowcolor": "#2a3f5f",
           "arrowhead": 0,
           "arrowwidth": 1
          },
          "autotypenumbers": "strict",
          "coloraxis": {
           "colorbar": {
            "outlinewidth": 0,
            "ticks": ""
           }
          },
          "colorscale": {
           "diverging": [
            [
             0,
             "#8e0152"
            ],
            [
             0.1,
             "#c51b7d"
            ],
            [
             0.2,
             "#de77ae"
            ],
            [
             0.3,
             "#f1b6da"
            ],
            [
             0.4,
             "#fde0ef"
            ],
            [
             0.5,
             "#f7f7f7"
            ],
            [
             0.6,
             "#e6f5d0"
            ],
            [
             0.7,
             "#b8e186"
            ],
            [
             0.8,
             "#7fbc41"
            ],
            [
             0.9,
             "#4d9221"
            ],
            [
             1,
             "#276419"
            ]
           ],
           "sequential": [
            [
             0,
             "#0d0887"
            ],
            [
             0.1111111111111111,
             "#46039f"
            ],
            [
             0.2222222222222222,
             "#7201a8"
            ],
            [
             0.3333333333333333,
             "#9c179e"
            ],
            [
             0.4444444444444444,
             "#bd3786"
            ],
            [
             0.5555555555555556,
             "#d8576b"
            ],
            [
             0.6666666666666666,
             "#ed7953"
            ],
            [
             0.7777777777777778,
             "#fb9f3a"
            ],
            [
             0.8888888888888888,
             "#fdca26"
            ],
            [
             1,
             "#f0f921"
            ]
           ],
           "sequentialminus": [
            [
             0,
             "#0d0887"
            ],
            [
             0.1111111111111111,
             "#46039f"
            ],
            [
             0.2222222222222222,
             "#7201a8"
            ],
            [
             0.3333333333333333,
             "#9c179e"
            ],
            [
             0.4444444444444444,
             "#bd3786"
            ],
            [
             0.5555555555555556,
             "#d8576b"
            ],
            [
             0.6666666666666666,
             "#ed7953"
            ],
            [
             0.7777777777777778,
             "#fb9f3a"
            ],
            [
             0.8888888888888888,
             "#fdca26"
            ],
            [
             1,
             "#f0f921"
            ]
           ]
          },
          "colorway": [
           "#636efa",
           "#EF553B",
           "#00cc96",
           "#ab63fa",
           "#FFA15A",
           "#19d3f3",
           "#FF6692",
           "#B6E880",
           "#FF97FF",
           "#FECB52"
          ],
          "font": {
           "color": "#2a3f5f"
          },
          "geo": {
           "bgcolor": "white",
           "lakecolor": "white",
           "landcolor": "#E5ECF6",
           "showlakes": true,
           "showland": true,
           "subunitcolor": "white"
          },
          "hoverlabel": {
           "align": "left"
          },
          "hovermode": "closest",
          "mapbox": {
           "style": "light"
          },
          "paper_bgcolor": "white",
          "plot_bgcolor": "#E5ECF6",
          "polar": {
           "angularaxis": {
            "gridcolor": "white",
            "linecolor": "white",
            "ticks": ""
           },
           "bgcolor": "#E5ECF6",
           "radialaxis": {
            "gridcolor": "white",
            "linecolor": "white",
            "ticks": ""
           }
          },
          "scene": {
           "xaxis": {
            "backgroundcolor": "#E5ECF6",
            "gridcolor": "white",
            "gridwidth": 2,
            "linecolor": "white",
            "showbackground": true,
            "ticks": "",
            "zerolinecolor": "white"
           },
           "yaxis": {
            "backgroundcolor": "#E5ECF6",
            "gridcolor": "white",
            "gridwidth": 2,
            "linecolor": "white",
            "showbackground": true,
            "ticks": "",
            "zerolinecolor": "white"
           },
           "zaxis": {
            "backgroundcolor": "#E5ECF6",
            "gridcolor": "white",
            "gridwidth": 2,
            "linecolor": "white",
            "showbackground": true,
            "ticks": "",
            "zerolinecolor": "white"
           }
          },
          "shapedefaults": {
           "line": {
            "color": "#2a3f5f"
           }
          },
          "ternary": {
           "aaxis": {
            "gridcolor": "white",
            "linecolor": "white",
            "ticks": ""
           },
           "baxis": {
            "gridcolor": "white",
            "linecolor": "white",
            "ticks": ""
           },
           "bgcolor": "#E5ECF6",
           "caxis": {
            "gridcolor": "white",
            "linecolor": "white",
            "ticks": ""
           }
          },
          "title": {
           "x": 0.05
          },
          "xaxis": {
           "automargin": true,
           "gridcolor": "white",
           "linecolor": "white",
           "ticks": "",
           "title": {
            "standoff": 15
           },
           "zerolinecolor": "white",
           "zerolinewidth": 2
          },
          "yaxis": {
           "automargin": true,
           "gridcolor": "white",
           "linecolor": "white",
           "ticks": "",
           "title": {
            "standoff": 15
           },
           "zerolinecolor": "white",
           "zerolinewidth": 2
          }
         }
        },
        "title": {
         "font": {
          "color": "#00529b"
         },
         "text": "University of Florida Applicant Breakdown by State"
        }
       }
      }
     },
     "metadata": {},
     "output_type": "display_data"
    }
   ],
   "source": [
    "import plotly.graph_objects as go\n",
    "\n",
    "# convert to string\n",
    "for col in df.columns:\n",
    "    df[col] = df[col].astype(str)\n",
    "\n",
    "# hover text\n",
    "df['text'] = df['State'] + ' Total Applicants: ' + df['total_apps'] + '<br>' + \\\n",
    "    '<br>' + 'ADMITTED STUDENT AVERAGES: ' + '<br>' +\\\n",
    "    'GPA: ' + df['avg_gpa'] + '<br>' +\\\n",
    "    'Work Exp: ' + df['avg_workexp'] + '<br>' + \\\n",
    "    'Volunteer: ' + df['avg_volunteer'] + '<br>' +\\\n",
    "    'Test Score: ' + df['avg_test'] + '<br>' + \\\n",
    "    'Writing Score: ' + df['avg_writing']\n",
    "\n",
    "fig = go.Figure(data=go.Choropleth(\n",
    "    locations=df['code'],\n",
    "    z=df['total_apps'].astype(float),\n",
    "    locationmode='USA-states',\n",
    "    colorscale='Reds',\n",
    "    autocolorscale=False,\n",
    "    text=df['text'], # hover text\n",
    "    marker_line_color='white', # line markers between states\n",
    "    colorbar_title=\"Total Applicants\",\n",
    "    colorbar_title_font_color = \"#fb6502\",\n",
    "    colorbar_title_font_size = 14\n",
    "))\n",
    "\n",
    "# Formatting for title, land color, lakes etc\n",
    "fig.update_layout(\n",
    "    title_text='University of Florida Applicant Breakdown by State',\n",
    "    title_font_color=\"#00529b\",\n",
    "    font = dict(\n",
    "        size = 16),\n",
    "    geo = dict(\n",
    "        scope='usa',\n",
    "        projection=go.layout.geo.Projection(type = 'albers usa'),\n",
    "        showlakes=True, # lakes\n",
    "        landcolor='#EEEEEE',\n",
    "        bgcolor= '#fcfcfc',\n",
    "        lakecolor='rgb(255, 255, 255)')\n",
    ")\n",
    "\n",
    "fig.update_layout(paper_bgcolor=\"#fcfcfc\")\n",
    "\n",
    "# Formatting for hover \n",
    "fig.update_layout(\n",
    "hoverlabel=dict(\n",
    "    font_color=\"white\",\n",
    "    bgcolor=\"#4d64c0\"\n",
    "))\n",
    "\n",
    "fig.show()\n",
    "\n",
    "# export plotly \n",
    "fig.write_html(\"../output/map_breakdown_by_state_plotly.html\")"
   ]
  },
  {
   "attachments": {},
   "cell_type": "markdown",
   "metadata": {},
   "source": [
    "### Scatterplot\n",
    "\n",
    "Noticed that among all admitted students, applicants from California have to perform at a higher level. \n",
    "\n",
    "- average work experience \n",
    "- avergae volunteering \n",
    "- avergae writing \n",
    "\n",
    "![alttext](../output/avgs_table.png 'hi') "
   ]
  },
  {
   "attachments": {},
   "cell_type": "markdown",
   "metadata": {},
   "source": [
    "![alttext](../output/state_avgs_table1.png 'hi') "
   ]
  },
  {
   "cell_type": "code",
   "execution_count": 26,
   "metadata": {},
   "outputs": [
    {
     "data": {
      "text/html": [
       "<div>\n",
       "<style scoped>\n",
       "    .dataframe tbody tr th:only-of-type {\n",
       "        vertical-align: middle;\n",
       "    }\n",
       "\n",
       "    .dataframe tbody tr th {\n",
       "        vertical-align: top;\n",
       "    }\n",
       "\n",
       "    .dataframe thead th {\n",
       "        text-align: right;\n",
       "    }\n",
       "</style>\n",
       "<table border=\"1\" class=\"dataframe\">\n",
       "  <thead>\n",
       "    <tr style=\"text-align: right;\">\n",
       "      <th></th>\n",
       "      <th>Unnamed: 0</th>\n",
       "      <th>Decision</th>\n",
       "      <th>State</th>\n",
       "      <th>GPA</th>\n",
       "      <th>WorkExp</th>\n",
       "      <th>TestScore</th>\n",
       "      <th>WritingScore</th>\n",
       "      <th>Gender</th>\n",
       "      <th>VolunteerLevel</th>\n",
       "      <th>Admitted</th>\n",
       "    </tr>\n",
       "  </thead>\n",
       "  <tbody>\n",
       "    <tr>\n",
       "      <th>0</th>\n",
       "      <td>0</td>\n",
       "      <td>Admit</td>\n",
       "      <td>California</td>\n",
       "      <td>3.90</td>\n",
       "      <td>6.7</td>\n",
       "      <td>962.0</td>\n",
       "      <td>100</td>\n",
       "      <td>1.0</td>\n",
       "      <td>0</td>\n",
       "      <td>Admitted</td>\n",
       "    </tr>\n",
       "    <tr>\n",
       "      <th>1</th>\n",
       "      <td>1</td>\n",
       "      <td>Admit</td>\n",
       "      <td>Florida</td>\n",
       "      <td>3.80</td>\n",
       "      <td>1.4</td>\n",
       "      <td>969.0</td>\n",
       "      <td>97</td>\n",
       "      <td>1.0</td>\n",
       "      <td>4</td>\n",
       "      <td>Admitted</td>\n",
       "    </tr>\n",
       "    <tr>\n",
       "      <th>2</th>\n",
       "      <td>3</td>\n",
       "      <td>Admit</td>\n",
       "      <td>Colorado</td>\n",
       "      <td>3.60</td>\n",
       "      <td>0.9</td>\n",
       "      <td>969.0</td>\n",
       "      <td>97</td>\n",
       "      <td>0.0</td>\n",
       "      <td>2</td>\n",
       "      <td>Admitted</td>\n",
       "    </tr>\n",
       "    <tr>\n",
       "      <th>3</th>\n",
       "      <td>6</td>\n",
       "      <td>Admit</td>\n",
       "      <td>California</td>\n",
       "      <td>3.88</td>\n",
       "      <td>1.5</td>\n",
       "      <td>967.0</td>\n",
       "      <td>95</td>\n",
       "      <td>1.0</td>\n",
       "      <td>5</td>\n",
       "      <td>Admitted</td>\n",
       "    </tr>\n",
       "    <tr>\n",
       "      <th>4</th>\n",
       "      <td>7</td>\n",
       "      <td>Admit</td>\n",
       "      <td>California</td>\n",
       "      <td>3.70</td>\n",
       "      <td>1.2</td>\n",
       "      <td>969.0</td>\n",
       "      <td>94</td>\n",
       "      <td>1.0</td>\n",
       "      <td>2</td>\n",
       "      <td>Admitted</td>\n",
       "    </tr>\n",
       "    <tr>\n",
       "      <th>...</th>\n",
       "      <td>...</td>\n",
       "      <td>...</td>\n",
       "      <td>...</td>\n",
       "      <td>...</td>\n",
       "      <td>...</td>\n",
       "      <td>...</td>\n",
       "      <td>...</td>\n",
       "      <td>...</td>\n",
       "      <td>...</td>\n",
       "      <td>...</td>\n",
       "    </tr>\n",
       "    <tr>\n",
       "      <th>75</th>\n",
       "      <td>83</td>\n",
       "      <td>Waitlist</td>\n",
       "      <td>Vermont</td>\n",
       "      <td>3.53</td>\n",
       "      <td>3.3</td>\n",
       "      <td>862.0</td>\n",
       "      <td>85</td>\n",
       "      <td>1.0</td>\n",
       "      <td>1</td>\n",
       "      <td>Not Admitted</td>\n",
       "    </tr>\n",
       "    <tr>\n",
       "      <th>76</th>\n",
       "      <td>84</td>\n",
       "      <td>Waitlist</td>\n",
       "      <td>Florida</td>\n",
       "      <td>3.52</td>\n",
       "      <td>0.7</td>\n",
       "      <td>868.0</td>\n",
       "      <td>81</td>\n",
       "      <td>0.0</td>\n",
       "      <td>4</td>\n",
       "      <td>Not Admitted</td>\n",
       "    </tr>\n",
       "    <tr>\n",
       "      <th>77</th>\n",
       "      <td>85</td>\n",
       "      <td>Waitlist</td>\n",
       "      <td>Florida</td>\n",
       "      <td>3.51</td>\n",
       "      <td>3.4</td>\n",
       "      <td>865.0</td>\n",
       "      <td>88</td>\n",
       "      <td>1.0</td>\n",
       "      <td>3</td>\n",
       "      <td>Not Admitted</td>\n",
       "    </tr>\n",
       "    <tr>\n",
       "      <th>78</th>\n",
       "      <td>86</td>\n",
       "      <td>Waitlist</td>\n",
       "      <td>California</td>\n",
       "      <td>3.47</td>\n",
       "      <td>2.2</td>\n",
       "      <td>867.0</td>\n",
       "      <td>77</td>\n",
       "      <td>1.0</td>\n",
       "      <td>5</td>\n",
       "      <td>Not Admitted</td>\n",
       "    </tr>\n",
       "    <tr>\n",
       "      <th>79</th>\n",
       "      <td>87</td>\n",
       "      <td>Waitlist</td>\n",
       "      <td>Florida</td>\n",
       "      <td>3.46</td>\n",
       "      <td>1.9</td>\n",
       "      <td>869.0</td>\n",
       "      <td>89</td>\n",
       "      <td>1.0</td>\n",
       "      <td>0</td>\n",
       "      <td>Not Admitted</td>\n",
       "    </tr>\n",
       "  </tbody>\n",
       "</table>\n",
       "<p>80 rows × 10 columns</p>\n",
       "</div>"
      ],
      "text/plain": [
       "    Unnamed: 0  Decision       State   GPA  WorkExp  TestScore  WritingScore  \\\n",
       "0            0     Admit  California  3.90      6.7      962.0           100   \n",
       "1            1     Admit     Florida  3.80      1.4      969.0            97   \n",
       "2            3     Admit    Colorado  3.60      0.9      969.0            97   \n",
       "3            6     Admit  California  3.88      1.5      967.0            95   \n",
       "4            7     Admit  California  3.70      1.2      969.0            94   \n",
       "..         ...       ...         ...   ...      ...        ...           ...   \n",
       "75          83  Waitlist     Vermont  3.53      3.3      862.0            85   \n",
       "76          84  Waitlist     Florida  3.52      0.7      868.0            81   \n",
       "77          85  Waitlist     Florida  3.51      3.4      865.0            88   \n",
       "78          86  Waitlist  California  3.47      2.2      867.0            77   \n",
       "79          87  Waitlist     Florida  3.46      1.9      869.0            89   \n",
       "\n",
       "    Gender  VolunteerLevel      Admitted  \n",
       "0      1.0               0      Admitted  \n",
       "1      1.0               4      Admitted  \n",
       "2      0.0               2      Admitted  \n",
       "3      1.0               5      Admitted  \n",
       "4      1.0               2      Admitted  \n",
       "..     ...             ...           ...  \n",
       "75     1.0               1  Not Admitted  \n",
       "76     0.0               4  Not Admitted  \n",
       "77     1.0               3  Not Admitted  \n",
       "78     1.0               5  Not Admitted  \n",
       "79     1.0               0  Not Admitted  \n",
       "\n",
       "[80 rows x 10 columns]"
      ]
     },
     "execution_count": 26,
     "metadata": {},
     "output_type": "execute_result"
    }
   ],
   "source": [
    "import numpy as np\n",
    "\n",
    "data = pd.read_csv('../data/cleaned.csv')\n",
    "data['Admitted'] = np.where(data['Decision'] == 'Admit', 'Admitted', 'Not Admitted')\n",
    "data['Admitted'] = data['Admitted'].astype('category')\n",
    "data"
   ]
  },
  {
   "cell_type": "code",
   "execution_count": 108,
   "metadata": {},
   "outputs": [
    {
     "data": {
      "application/vnd.plotly.v1+json": {
       "config": {
        "plotlyServerURL": "https://plot.ly"
       },
       "data": [
        {
         "hovertemplate": "Decision=Admitted<br>Work Experience (years)=%{x}<br>Writing Score=%{y}<br>VolunteerLevel=%{marker.size}<extra></extra>",
         "legendgroup": "Admitted",
         "marker": {
          "color": "#005496",
          "size": [
           0,
           4,
           2,
           5,
           2,
           1,
           0,
           4,
           2,
           3,
           2,
           3,
           4,
           5,
           1,
           1,
           0,
           2,
           1,
           2,
           0,
           0,
           0,
           1,
           2,
           4,
           5,
           4,
           5
          ],
          "sizemode": "area",
          "sizeref": 0.0125,
          "symbol": "circle"
         },
         "mode": "markers",
         "name": "Admitted",
         "orientation": "v",
         "showlegend": true,
         "type": "scatter",
         "x": [
          6.7,
          1.4,
          0.9,
          1.5,
          1.2,
          4.7,
          1.4,
          0.8,
          1.2,
          3.2,
          3.7,
          3.8,
          1.2,
          2.7,
          0.7,
          1.7,
          1.1,
          8.7,
          0.7,
          2.2,
          0,
          0,
          1.7,
          0.9,
          1.2,
          1,
          1.9,
          1.4,
          1.7
         ],
         "xaxis": "x",
         "y": [
          100,
          97,
          97,
          95,
          94,
          93,
          94,
          99,
          94,
          93,
          99,
          98,
          1,
          97,
          91,
          90,
          93,
          91,
          11,
          91,
          88,
          97,
          93,
          89,
          87,
          93,
          94,
          99,
          97
         ],
         "yaxis": "y"
        },
        {
         "hovertemplate": "Decision=Not Admitted<br>Work Experience (years)=%{x}<br>Writing Score=%{y}<br>VolunteerLevel=%{marker.size}<extra></extra>",
         "legendgroup": "Not Admitted",
         "marker": {
          "color": "#f37021",
          "size": [
           3,
           2,
           4,
           4,
           5,
           0,
           1,
           2,
           1,
           4,
           5,
           2,
           1,
           0,
           1,
           4,
           3,
           1,
           5,
           0,
           3,
           4,
           2,
           1,
           1,
           4,
           4,
           5,
           4,
           3,
           2,
           1,
           0,
           2,
           4,
           5,
           3,
           5,
           1,
           2,
           4,
           5,
           0,
           3,
           1,
           2,
           1,
           4,
           3,
           5,
           0
          ],
          "sizemode": "area",
          "sizeref": 0.0125,
          "symbol": "circle"
         },
         "mode": "markers",
         "name": "Not Admitted",
         "orientation": "v",
         "showlegend": true,
         "type": "scatter",
         "x": [
          3.7,
          1.4,
          0.7,
          1.3,
          1.3,
          0.9,
          2.7,
          9.2,
          0.8,
          0.9,
          1.6,
          0.9,
          1.2,
          1.9,
          3.2,
          1.1,
          3.2,
          0.7,
          3.7,
          1.4,
          1.7,
          1.7,
          1.4,
          0.8,
          6.2,
          1.7,
          4.6,
          1.7,
          1.9,
          4.7,
          1.7,
          2.2,
          1.2,
          1.7,
          3.5,
          1.8,
          2.7,
          1.3,
          1.5,
          7.2,
          1.2,
          0.9,
          1.4,
          1.3,
          2,
          1.2,
          3.3,
          0.7,
          3.4,
          2.2,
          1.9
         ],
         "xaxis": "x",
         "y": [
          78,
          77,
          82,
          56,
          56,
          78,
          89,
          56,
          76,
          87,
          81,
          79,
          77,
          76,
          75,
          65,
          74,
          71,
          73,
          72,
          69,
          78,
          69,
          70,
          77,
          81,
          75,
          79,
          88,
          71,
          73,
          74,
          85,
          87,
          83,
          82,
          87,
          86,
          85,
          84,
          83,
          82,
          80,
          84,
          81,
          83,
          85,
          81,
          88,
          77,
          89
         ],
         "yaxis": "y"
        }
       ],
       "layout": {
        "annotations": [
         {
          "font": {
           "color": "grey",
           "size": 8
          },
          "showarrow": false,
          "text": " Average: 2.04",
          "x": 2.04,
          "xanchor": "left",
          "xref": "x",
          "y": 0,
          "yanchor": "bottom",
          "yref": "y domain"
         },
         {
          "font": {
           "color": "grey",
           "size": 8
          },
          "showarrow": false,
          "text": "  Average: 88.1",
          "x": 1,
          "xanchor": "right",
          "xref": "x domain",
          "y": 88.1,
          "yanchor": "top",
          "yref": "y"
         }
        ],
        "font": {
         "color": "black",
         "family": "PT Sans Narrow",
         "size": 16
        },
        "legend": {
         "itemsizing": "constant",
         "title": {
          "text": "Decision"
         },
         "tracegroupgap": 0
        },
        "margin": {
         "t": 60
        },
        "paper_bgcolor": "#fcfcfc",
        "plot_bgcolor": "#fcfcfc",
        "shapes": [
         {
          "line": {
           "color": "lightgrey",
           "dash": "dot"
          },
          "type": "line",
          "x0": 2.04,
          "x1": 2.04,
          "xref": "x",
          "y0": 0,
          "y1": 1,
          "yref": "y domain"
         },
         {
          "line": {
           "color": "lightgrey",
           "dash": "dot"
          },
          "type": "line",
          "x0": 0,
          "x1": 1,
          "xref": "x domain",
          "y0": 88.1,
          "y1": 88.1,
          "yref": "y"
         }
        ],
        "template": {
         "data": {
          "bar": [
           {
            "error_x": {
             "color": "#2a3f5f"
            },
            "error_y": {
             "color": "#2a3f5f"
            },
            "marker": {
             "line": {
              "color": "#E5ECF6",
              "width": 0.5
             },
             "pattern": {
              "fillmode": "overlay",
              "size": 10,
              "solidity": 0.2
             }
            },
            "type": "bar"
           }
          ],
          "barpolar": [
           {
            "marker": {
             "line": {
              "color": "#E5ECF6",
              "width": 0.5
             },
             "pattern": {
              "fillmode": "overlay",
              "size": 10,
              "solidity": 0.2
             }
            },
            "type": "barpolar"
           }
          ],
          "carpet": [
           {
            "aaxis": {
             "endlinecolor": "#2a3f5f",
             "gridcolor": "white",
             "linecolor": "white",
             "minorgridcolor": "white",
             "startlinecolor": "#2a3f5f"
            },
            "baxis": {
             "endlinecolor": "#2a3f5f",
             "gridcolor": "white",
             "linecolor": "white",
             "minorgridcolor": "white",
             "startlinecolor": "#2a3f5f"
            },
            "type": "carpet"
           }
          ],
          "choropleth": [
           {
            "colorbar": {
             "outlinewidth": 0,
             "ticks": ""
            },
            "type": "choropleth"
           }
          ],
          "contour": [
           {
            "colorbar": {
             "outlinewidth": 0,
             "ticks": ""
            },
            "colorscale": [
             [
              0,
              "#0d0887"
             ],
             [
              0.1111111111111111,
              "#46039f"
             ],
             [
              0.2222222222222222,
              "#7201a8"
             ],
             [
              0.3333333333333333,
              "#9c179e"
             ],
             [
              0.4444444444444444,
              "#bd3786"
             ],
             [
              0.5555555555555556,
              "#d8576b"
             ],
             [
              0.6666666666666666,
              "#ed7953"
             ],
             [
              0.7777777777777778,
              "#fb9f3a"
             ],
             [
              0.8888888888888888,
              "#fdca26"
             ],
             [
              1,
              "#f0f921"
             ]
            ],
            "type": "contour"
           }
          ],
          "contourcarpet": [
           {
            "colorbar": {
             "outlinewidth": 0,
             "ticks": ""
            },
            "type": "contourcarpet"
           }
          ],
          "heatmap": [
           {
            "colorbar": {
             "outlinewidth": 0,
             "ticks": ""
            },
            "colorscale": [
             [
              0,
              "#0d0887"
             ],
             [
              0.1111111111111111,
              "#46039f"
             ],
             [
              0.2222222222222222,
              "#7201a8"
             ],
             [
              0.3333333333333333,
              "#9c179e"
             ],
             [
              0.4444444444444444,
              "#bd3786"
             ],
             [
              0.5555555555555556,
              "#d8576b"
             ],
             [
              0.6666666666666666,
              "#ed7953"
             ],
             [
              0.7777777777777778,
              "#fb9f3a"
             ],
             [
              0.8888888888888888,
              "#fdca26"
             ],
             [
              1,
              "#f0f921"
             ]
            ],
            "type": "heatmap"
           }
          ],
          "heatmapgl": [
           {
            "colorbar": {
             "outlinewidth": 0,
             "ticks": ""
            },
            "colorscale": [
             [
              0,
              "#0d0887"
             ],
             [
              0.1111111111111111,
              "#46039f"
             ],
             [
              0.2222222222222222,
              "#7201a8"
             ],
             [
              0.3333333333333333,
              "#9c179e"
             ],
             [
              0.4444444444444444,
              "#bd3786"
             ],
             [
              0.5555555555555556,
              "#d8576b"
             ],
             [
              0.6666666666666666,
              "#ed7953"
             ],
             [
              0.7777777777777778,
              "#fb9f3a"
             ],
             [
              0.8888888888888888,
              "#fdca26"
             ],
             [
              1,
              "#f0f921"
             ]
            ],
            "type": "heatmapgl"
           }
          ],
          "histogram": [
           {
            "marker": {
             "pattern": {
              "fillmode": "overlay",
              "size": 10,
              "solidity": 0.2
             }
            },
            "type": "histogram"
           }
          ],
          "histogram2d": [
           {
            "colorbar": {
             "outlinewidth": 0,
             "ticks": ""
            },
            "colorscale": [
             [
              0,
              "#0d0887"
             ],
             [
              0.1111111111111111,
              "#46039f"
             ],
             [
              0.2222222222222222,
              "#7201a8"
             ],
             [
              0.3333333333333333,
              "#9c179e"
             ],
             [
              0.4444444444444444,
              "#bd3786"
             ],
             [
              0.5555555555555556,
              "#d8576b"
             ],
             [
              0.6666666666666666,
              "#ed7953"
             ],
             [
              0.7777777777777778,
              "#fb9f3a"
             ],
             [
              0.8888888888888888,
              "#fdca26"
             ],
             [
              1,
              "#f0f921"
             ]
            ],
            "type": "histogram2d"
           }
          ],
          "histogram2dcontour": [
           {
            "colorbar": {
             "outlinewidth": 0,
             "ticks": ""
            },
            "colorscale": [
             [
              0,
              "#0d0887"
             ],
             [
              0.1111111111111111,
              "#46039f"
             ],
             [
              0.2222222222222222,
              "#7201a8"
             ],
             [
              0.3333333333333333,
              "#9c179e"
             ],
             [
              0.4444444444444444,
              "#bd3786"
             ],
             [
              0.5555555555555556,
              "#d8576b"
             ],
             [
              0.6666666666666666,
              "#ed7953"
             ],
             [
              0.7777777777777778,
              "#fb9f3a"
             ],
             [
              0.8888888888888888,
              "#fdca26"
             ],
             [
              1,
              "#f0f921"
             ]
            ],
            "type": "histogram2dcontour"
           }
          ],
          "mesh3d": [
           {
            "colorbar": {
             "outlinewidth": 0,
             "ticks": ""
            },
            "type": "mesh3d"
           }
          ],
          "parcoords": [
           {
            "line": {
             "colorbar": {
              "outlinewidth": 0,
              "ticks": ""
             }
            },
            "type": "parcoords"
           }
          ],
          "pie": [
           {
            "automargin": true,
            "type": "pie"
           }
          ],
          "scatter": [
           {
            "fillpattern": {
             "fillmode": "overlay",
             "size": 10,
             "solidity": 0.2
            },
            "type": "scatter"
           }
          ],
          "scatter3d": [
           {
            "line": {
             "colorbar": {
              "outlinewidth": 0,
              "ticks": ""
             }
            },
            "marker": {
             "colorbar": {
              "outlinewidth": 0,
              "ticks": ""
             }
            },
            "type": "scatter3d"
           }
          ],
          "scattercarpet": [
           {
            "marker": {
             "colorbar": {
              "outlinewidth": 0,
              "ticks": ""
             }
            },
            "type": "scattercarpet"
           }
          ],
          "scattergeo": [
           {
            "marker": {
             "colorbar": {
              "outlinewidth": 0,
              "ticks": ""
             }
            },
            "type": "scattergeo"
           }
          ],
          "scattergl": [
           {
            "marker": {
             "colorbar": {
              "outlinewidth": 0,
              "ticks": ""
             }
            },
            "type": "scattergl"
           }
          ],
          "scattermapbox": [
           {
            "marker": {
             "colorbar": {
              "outlinewidth": 0,
              "ticks": ""
             }
            },
            "type": "scattermapbox"
           }
          ],
          "scatterpolar": [
           {
            "marker": {
             "colorbar": {
              "outlinewidth": 0,
              "ticks": ""
             }
            },
            "type": "scatterpolar"
           }
          ],
          "scatterpolargl": [
           {
            "marker": {
             "colorbar": {
              "outlinewidth": 0,
              "ticks": ""
             }
            },
            "type": "scatterpolargl"
           }
          ],
          "scatterternary": [
           {
            "marker": {
             "colorbar": {
              "outlinewidth": 0,
              "ticks": ""
             }
            },
            "type": "scatterternary"
           }
          ],
          "surface": [
           {
            "colorbar": {
             "outlinewidth": 0,
             "ticks": ""
            },
            "colorscale": [
             [
              0,
              "#0d0887"
             ],
             [
              0.1111111111111111,
              "#46039f"
             ],
             [
              0.2222222222222222,
              "#7201a8"
             ],
             [
              0.3333333333333333,
              "#9c179e"
             ],
             [
              0.4444444444444444,
              "#bd3786"
             ],
             [
              0.5555555555555556,
              "#d8576b"
             ],
             [
              0.6666666666666666,
              "#ed7953"
             ],
             [
              0.7777777777777778,
              "#fb9f3a"
             ],
             [
              0.8888888888888888,
              "#fdca26"
             ],
             [
              1,
              "#f0f921"
             ]
            ],
            "type": "surface"
           }
          ],
          "table": [
           {
            "cells": {
             "fill": {
              "color": "#EBF0F8"
             },
             "line": {
              "color": "white"
             }
            },
            "header": {
             "fill": {
              "color": "#C8D4E3"
             },
             "line": {
              "color": "white"
             }
            },
            "type": "table"
           }
          ]
         },
         "layout": {
          "annotationdefaults": {
           "arrowcolor": "#2a3f5f",
           "arrowhead": 0,
           "arrowwidth": 1
          },
          "autotypenumbers": "strict",
          "coloraxis": {
           "colorbar": {
            "outlinewidth": 0,
            "ticks": ""
           }
          },
          "colorscale": {
           "diverging": [
            [
             0,
             "#8e0152"
            ],
            [
             0.1,
             "#c51b7d"
            ],
            [
             0.2,
             "#de77ae"
            ],
            [
             0.3,
             "#f1b6da"
            ],
            [
             0.4,
             "#fde0ef"
            ],
            [
             0.5,
             "#f7f7f7"
            ],
            [
             0.6,
             "#e6f5d0"
            ],
            [
             0.7,
             "#b8e186"
            ],
            [
             0.8,
             "#7fbc41"
            ],
            [
             0.9,
             "#4d9221"
            ],
            [
             1,
             "#276419"
            ]
           ],
           "sequential": [
            [
             0,
             "#0d0887"
            ],
            [
             0.1111111111111111,
             "#46039f"
            ],
            [
             0.2222222222222222,
             "#7201a8"
            ],
            [
             0.3333333333333333,
             "#9c179e"
            ],
            [
             0.4444444444444444,
             "#bd3786"
            ],
            [
             0.5555555555555556,
             "#d8576b"
            ],
            [
             0.6666666666666666,
             "#ed7953"
            ],
            [
             0.7777777777777778,
             "#fb9f3a"
            ],
            [
             0.8888888888888888,
             "#fdca26"
            ],
            [
             1,
             "#f0f921"
            ]
           ],
           "sequentialminus": [
            [
             0,
             "#0d0887"
            ],
            [
             0.1111111111111111,
             "#46039f"
            ],
            [
             0.2222222222222222,
             "#7201a8"
            ],
            [
             0.3333333333333333,
             "#9c179e"
            ],
            [
             0.4444444444444444,
             "#bd3786"
            ],
            [
             0.5555555555555556,
             "#d8576b"
            ],
            [
             0.6666666666666666,
             "#ed7953"
            ],
            [
             0.7777777777777778,
             "#fb9f3a"
            ],
            [
             0.8888888888888888,
             "#fdca26"
            ],
            [
             1,
             "#f0f921"
            ]
           ]
          },
          "colorway": [
           "#636efa",
           "#EF553B",
           "#00cc96",
           "#ab63fa",
           "#FFA15A",
           "#19d3f3",
           "#FF6692",
           "#B6E880",
           "#FF97FF",
           "#FECB52"
          ],
          "font": {
           "color": "#2a3f5f"
          },
          "geo": {
           "bgcolor": "white",
           "lakecolor": "white",
           "landcolor": "#E5ECF6",
           "showlakes": true,
           "showland": true,
           "subunitcolor": "white"
          },
          "hoverlabel": {
           "align": "left"
          },
          "hovermode": "closest",
          "mapbox": {
           "style": "light"
          },
          "paper_bgcolor": "white",
          "plot_bgcolor": "#E5ECF6",
          "polar": {
           "angularaxis": {
            "gridcolor": "white",
            "linecolor": "white",
            "ticks": ""
           },
           "bgcolor": "#E5ECF6",
           "radialaxis": {
            "gridcolor": "white",
            "linecolor": "white",
            "ticks": ""
           }
          },
          "scene": {
           "xaxis": {
            "backgroundcolor": "#E5ECF6",
            "gridcolor": "white",
            "gridwidth": 2,
            "linecolor": "white",
            "showbackground": true,
            "ticks": "",
            "zerolinecolor": "white"
           },
           "yaxis": {
            "backgroundcolor": "#E5ECF6",
            "gridcolor": "white",
            "gridwidth": 2,
            "linecolor": "white",
            "showbackground": true,
            "ticks": "",
            "zerolinecolor": "white"
           },
           "zaxis": {
            "backgroundcolor": "#E5ECF6",
            "gridcolor": "white",
            "gridwidth": 2,
            "linecolor": "white",
            "showbackground": true,
            "ticks": "",
            "zerolinecolor": "white"
           }
          },
          "shapedefaults": {
           "line": {
            "color": "#2a3f5f"
           }
          },
          "ternary": {
           "aaxis": {
            "gridcolor": "white",
            "linecolor": "white",
            "ticks": ""
           },
           "baxis": {
            "gridcolor": "white",
            "linecolor": "white",
            "ticks": ""
           },
           "bgcolor": "#E5ECF6",
           "caxis": {
            "gridcolor": "white",
            "linecolor": "white",
            "ticks": ""
           }
          },
          "title": {
           "x": 0.05
          },
          "xaxis": {
           "automargin": true,
           "gridcolor": "white",
           "linecolor": "white",
           "ticks": "",
           "title": {
            "standoff": 15
           },
           "zerolinecolor": "white",
           "zerolinewidth": 2
          },
          "yaxis": {
           "automargin": true,
           "gridcolor": "white",
           "linecolor": "white",
           "ticks": "",
           "title": {
            "standoff": 15
           },
           "zerolinecolor": "white",
           "zerolinewidth": 2
          }
         }
        },
        "title": {
         "font": {
          "family": "PT Sans Narrow"
         },
         "text": "Relationships Between Quantitative and Qualitative Metrics",
         "x": 0.5
        },
        "xaxis": {
         "anchor": "y",
         "domain": [
          0,
          1
         ],
         "title": {
          "text": "Work Experience (years)"
         }
        },
        "yaxis": {
         "anchor": "x",
         "domain": [
          0,
          1
         ],
         "title": {
          "text": "Writing Score"
         }
        }
       }
      }
     },
     "metadata": {},
     "output_type": "display_data"
    }
   ],
   "source": [
    "import seaborn as sns\n",
    "import matplotlib.pyplot as plt\n",
    "import plotly.express as px\n",
    "\n",
    "# sns.scatterplot(x='WorkExp', y='WritingScore', hue='Admitted', data=data)\n",
    "# plt.show()\n",
    "\n",
    "fig = px.scatter( data, x='WorkExp', y='WritingScore', color='Admitted', size='VolunteerLevel', \n",
    "                color_discrete_map= {'Admitted': '#005496',\n",
    "                                      'Not Admitted': '#f37021'}, \n",
    "                labels=dict({'WritingScore': 'Writing Score',\n",
    "                             'WorkExp': 'Work Experience (years)',\n",
    "                             'Admitted': 'Decision'}))\n",
    "\n",
    "fig.update_layout({\n",
    "    'plot_bgcolor' : '#fcfcfc', \n",
    "    'paper_bgcolor': '#fcfcfc'\n",
    "})\n",
    "\n",
    "fig.update_layout(\n",
    "title_text='Relationships Between Quantitative and Qualitative Metrics',title_x=0.5)\n",
    "\n",
    "fig.update_layout(\n",
    "    font_family=\"PT Sans Narrow\",\n",
    "    title_font_family = \"PT Sans Narrow\",\n",
    "    font_color=\"black\",\n",
    "    font_size = 16\n",
    "    # title_font_color=\"orange\",\n",
    "    # legend_title_font_color=\"gray\"\n",
    ")\n",
    "\n",
    "# add averages of accepted students \n",
    "fig.add_vline(x=2.04, line_dash='dot', line_color = 'lightgrey',annotation_text=\" Average: 2.04\", \n",
    "              annotation_font_size=8, annotation_position=\"bottom right\",\n",
    "              annotation_font_color=\"grey\")\n",
    "fig.add_hline(y=88.1,  line_dash='dot', line_color = 'lightgrey',annotation_text=\"  Average: 88.1\", \n",
    "              annotation_font_size=8, annotation_position=\"bottom right\",\n",
    "              annotation_font_color=\"grey\")\n",
    "\n",
    "fig.show()\n",
    "#'dot', 'dash', 'longdash', 'dashdot'\n",
    "fig.write_html(\"../output/workexp_writing.html\")\n"
   ]
  },
  {
   "cell_type": "code",
   "execution_count": 56,
   "metadata": {},
   "outputs": [
    {
     "data": {
      "image/png": "[encoded data removed]",
      "text/plain": [
       "<Figure size 432x288 with 1 Axes>"
      ]
     },
     "metadata": {
      "needs_background": "light"
     },
     "output_type": "display_data"
    }
   ],
   "source": [
    "# CA and not CA \n",
    "data['CA'] = np.where(data['State'] == 'California', 'CA', 'Other')\n",
    "data['CA'] = data['CA'].astype('category')\n",
    "\n",
    "# plot variables \n",
    "sns.scatterplot(x='GPA', y='TestScore', hue='Admitted', data=data)\n",
    "plt.show()\n",
    "\n",
    "\n"
   ]
  },
  {
   "cell_type": "code",
   "execution_count": 59,
   "metadata": {},
   "outputs": [
    {
     "data": {
      "image/png": "[encoded data removed]",
      "text/plain": [
       "<Figure size 1260x1260 with 56 Axes>"
      ]
     },
     "metadata": {
      "needs_background": "light"
     },
     "output_type": "display_data"
    }
   ],
   "source": [
    "data.corr()\n",
    "sns.pairplot(data, kind=\"scatter\")\n",
    "plt.show()"
   ]
  },
  {
   "cell_type": "code",
   "execution_count": 58,
   "metadata": {},
   "outputs": [
    {
     "data": {
      "image/png": "[encoded data removed]",
      "text/plain": [
       "<Figure size 432x288 with 1 Axes>"
      ]
     },
     "metadata": {
      "needs_background": "light"
     },
     "output_type": "display_data"
    }
   ],
   "source": [
    "# plot variables \n",
    "sns.scatterplot(x='WritingScore', y='TestScore', hue='Admitted', data=data)\n",
    "plt.show()\n"
   ]
  },
  {
   "cell_type": "code",
   "execution_count": null,
   "metadata": {},
   "outputs": [],
   "source": []
  }
 ],
 "metadata": {
  "kernelspec": {
   "display_name": "ANLY645",
   "language": "python",
   "name": "python3"
  },
  "language_info": {
   "codemirror_mode": {
    "name": "ipython",
    "version": 3
   },
   "file_extension": ".py",
   "mimetype": "text/x-python",
   "name": "python",
   "nbconvert_exporter": "python",
   "pygments_lexer": "ipython3",
   "version": "3.9.12"
  },
  "orig_nbformat": 4,
  "vscode": {
   "interpreter": {
    "hash": "e2c77212b858d95fa6629b107abe928a97e2de9631e73d985bbd30e3fa8bd290"
   }
  }
 },
 "nbformat": 4,
 "nbformat_minor": 2
}
